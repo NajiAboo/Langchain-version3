{
 "cells": [
  {
   "cell_type": "code",
   "execution_count": 49,
   "metadata": {},
   "outputs": [],
   "source": [
    "from langchain_core.documents import Document\n",
    "\n",
    "document_1 = Document(\n",
    "    page_content=\"I had chocalate chip pancakes and scrambled eggs for breakfast this morning.\",\n",
    "    metadata={\"source\": \"tweet\"},\n",
    ")\n",
    "\n",
    "document_2 = Document(\n",
    "    page_content=\"The weather forecast for tomorrow is cloudy and overcast, with a high of 62 degrees.\",\n",
    "    metadata={\"source\": \"news\"},\n",
    ")\n",
    "\n",
    "document_3= Document(\n",
    "    page_content=\"First test\",\n",
    "    metadata={\"source\": \"doc1\"}\n",
    ")\n",
    "\n",
    "document_4 = Document(\n",
    "    page_content=\"First second\",\n",
    "    metadata={\"sourc    e\": \"doc2\"}\n",
    ")"
   ]
  },
  {
   "cell_type": "code",
   "execution_count": 50,
   "metadata": {},
   "outputs": [],
   "source": [
    "from langchain_ollama.embeddings import OllamaEmbeddings\n",
    "ollama_model = OllamaEmbeddings(model=\"llama3.2:1b\")"
   ]
  },
  {
   "cell_type": "code",
   "execution_count": 51,
   "metadata": {},
   "outputs": [],
   "source": [
    "from langchain_core.vectorstores import InMemoryVectorStore"
   ]
  },
  {
   "cell_type": "code",
   "execution_count": 52,
   "metadata": {},
   "outputs": [],
   "source": [
    "vectore_ollam = InMemoryVectorStore(ollama_model)"
   ]
  },
  {
   "cell_type": "code",
   "execution_count": 53,
   "metadata": {},
   "outputs": [],
   "source": [
    "main_doc = [document_1, document_2]\n",
    "sub_doc = [document_3, document_4]"
   ]
  },
  {
   "cell_type": "code",
   "execution_count": 54,
   "metadata": {},
   "outputs": [
    {
     "data": {
      "text/plain": [
       "['ffae36a7-ad93-4d7c-aeab-a39b0880debf',\n",
       " '1d8ca92d-f5e8-4338-bc4c-ddd5288fa41f']"
      ]
     },
     "execution_count": 54,
     "metadata": {},
     "output_type": "execute_result"
    }
   ],
   "source": [
    "vectore_ollam.add_documents(documents=main_doc)"
   ]
  },
  {
   "cell_type": "code",
   "execution_count": 55,
   "metadata": {},
   "outputs": [
    {
     "data": {
      "text/plain": [
       "['doc3', 'doc4']"
      ]
     },
     "execution_count": 55,
     "metadata": {},
     "output_type": "execute_result"
    }
   ],
   "source": [
    "vectore_ollam.add_documents(documents=sub_doc, ids=[\"doc3\",\"doc4\"])"
   ]
  },
  {
   "cell_type": "code",
   "execution_count": 56,
   "metadata": {},
   "outputs": [],
   "source": [
    "query = \"weather\""
   ]
  },
  {
   "cell_type": "code",
   "execution_count": 57,
   "metadata": {},
   "outputs": [
    {
     "data": {
      "text/plain": [
       "[Document(id='doc4', metadata={'sourc    e': 'doc2'}, page_content='First second'),\n",
       " Document(id='doc3', metadata={'source': 'doc1'}, page_content='First test'),\n",
       " Document(id='ffae36a7-ad93-4d7c-aeab-a39b0880debf', metadata={'source': 'tweet'}, page_content='I had chocalate chip pancakes and scrambled eggs for breakfast this morning.'),\n",
       " Document(id='1d8ca92d-f5e8-4338-bc4c-ddd5288fa41f', metadata={'source': 'news'}, page_content='The weather forecast for tomorrow is cloudy and overcast, with a high of 62 degrees.')]"
      ]
     },
     "execution_count": 57,
     "metadata": {},
     "output_type": "execute_result"
    }
   ],
   "source": [
    "vectore_ollam.similarity_search(query=query)"
   ]
  },
  {
   "cell_type": "code",
   "execution_count": 58,
   "metadata": {},
   "outputs": [
    {
     "data": {
      "text/plain": [
       "[(Document(id='doc4', metadata={'sourc    e': 'doc2'}, page_content='First second'),\n",
       "  0.4275210960886856),\n",
       " (Document(id='doc3', metadata={'source': 'doc1'}, page_content='First test'),\n",
       "  0.4264083537867116),\n",
       " (Document(id='ffae36a7-ad93-4d7c-aeab-a39b0880debf', metadata={'source': 'tweet'}, page_content='I had chocalate chip pancakes and scrambled eggs for breakfast this morning.'),\n",
       "  0.2556857078858284),\n",
       " (Document(id='1d8ca92d-f5e8-4338-bc4c-ddd5288fa41f', metadata={'source': 'news'}, page_content='The weather forecast for tomorrow is cloudy and overcast, with a high of 62 degrees.'),\n",
       "  0.07459613010825197)]"
      ]
     },
     "execution_count": 58,
     "metadata": {},
     "output_type": "execute_result"
    }
   ],
   "source": [
    "vectore_ollam.similarity_search_with_score(query=query)"
   ]
  },
  {
   "cell_type": "code",
   "execution_count": 59,
   "metadata": {},
   "outputs": [
    {
     "data": {
      "text/plain": [
       "[Document(id='doc4', metadata={'sourc    e': 'doc2'}, page_content='First second'),\n",
       " Document(id='doc3', metadata={'source': 'doc1'}, page_content='First test')]"
      ]
     },
     "execution_count": 59,
     "metadata": {},
     "output_type": "execute_result"
    }
   ],
   "source": [
    "vectore_ollam.similarity_search(query, k=2)"
   ]
  },
  {
   "cell_type": "code",
   "execution_count": 62,
   "metadata": {},
   "outputs": [],
   "source": [
    "from langchain_openai import OpenAIEmbeddings\n",
    "open_ai_model = OpenAIEmbeddings()"
   ]
  },
  {
   "cell_type": "code",
   "execution_count": 63,
   "metadata": {},
   "outputs": [
    {
     "data": {
      "text/plain": [
       "['5108f9e4-4bdd-4683-81b2-76f55774ebb3',\n",
       " '46e76f61-a027-4274-8678-c01bf2355def',\n",
       " 'bf428446-a1de-40e7-bcf4-3a9c48954e5c',\n",
       " '22cb3e10-69e6-4b04-a617-1d1a6ba3f69f']"
      ]
     },
     "execution_count": 63,
     "metadata": {},
     "output_type": "execute_result"
    }
   ],
   "source": [
    "vector_openai = InMemoryVectorStore(open_ai_model)\n",
    "vector_openai.add_documents(documents=[document_1, document_2, document_3, document_4])"
   ]
  },
  {
   "cell_type": "code",
   "execution_count": 64,
   "metadata": {},
   "outputs": [
    {
     "data": {
      "text/plain": [
       "[Document(id='46e76f61-a027-4274-8678-c01bf2355def', metadata={'source': 'news'}, page_content='The weather forecast for tomorrow is cloudy and overcast, with a high of 62 degrees.'),\n",
       " Document(id='bf428446-a1de-40e7-bcf4-3a9c48954e5c', metadata={'source': 'doc1'}, page_content='First test'),\n",
       " Document(id='22cb3e10-69e6-4b04-a617-1d1a6ba3f69f', metadata={'sourc    e': 'doc2'}, page_content='First second'),\n",
       " Document(id='5108f9e4-4bdd-4683-81b2-76f55774ebb3', metadata={'source': 'tweet'}, page_content='I had chocalate chip pancakes and scrambled eggs for breakfast this morning.')]"
      ]
     },
     "execution_count": 64,
     "metadata": {},
     "output_type": "execute_result"
    }
   ],
   "source": [
    "vector_openai.similarity_search(query=query)"
   ]
  },
  {
   "cell_type": "code",
   "execution_count": 65,
   "metadata": {},
   "outputs": [
    {
     "data": {
      "text/plain": [
       "[(Document(id='46e76f61-a027-4274-8678-c01bf2355def', metadata={'source': 'news'}, page_content='The weather forecast for tomorrow is cloudy and overcast, with a high of 62 degrees.'),\n",
       "  0.830257481490742),\n",
       " (Document(id='bf428446-a1de-40e7-bcf4-3a9c48954e5c', metadata={'source': 'doc1'}, page_content='First test'),\n",
       "  0.7834529504347891),\n",
       " (Document(id='22cb3e10-69e6-4b04-a617-1d1a6ba3f69f', metadata={'sourc    e': 'doc2'}, page_content='First second'),\n",
       "  0.7757736682089076),\n",
       " (Document(id='5108f9e4-4bdd-4683-81b2-76f55774ebb3', metadata={'source': 'tweet'}, page_content='I had chocalate chip pancakes and scrambled eggs for breakfast this morning.'),\n",
       "  0.7487602384701088)]"
      ]
     },
     "execution_count": 65,
     "metadata": {},
     "output_type": "execute_result"
    }
   ],
   "source": [
    "vector_openai.similarity_search_with_score(query=query)"
   ]
  },
  {
   "cell_type": "code",
   "execution_count": 66,
   "metadata": {},
   "outputs": [],
   "source": [
    "vectore_ollam.delete(ids=[\"doc3\"])"
   ]
  },
  {
   "cell_type": "code",
   "execution_count": null,
   "metadata": {},
   "outputs": [],
   "source": []
  }
 ],
 "metadata": {
  "kernelspec": {
   "display_name": "Python 3",
   "language": "python",
   "name": "python3"
  },
  "language_info": {
   "codemirror_mode": {
    "name": "ipython",
    "version": 3
   },
   "file_extension": ".py",
   "mimetype": "text/x-python",
   "name": "python",
   "nbconvert_exporter": "python",
   "pygments_lexer": "ipython3",
   "version": "3.10.15"
  }
 },
 "nbformat": 4,
 "nbformat_minor": 2
}
