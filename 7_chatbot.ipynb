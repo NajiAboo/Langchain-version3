{
 "cells": [
  {
   "cell_type": "code",
   "execution_count": 50,
   "metadata": {},
   "outputs": [
    {
     "data": {
      "text/plain": [
       "True"
      ]
     },
     "execution_count": 50,
     "metadata": {},
     "output_type": "execute_result"
    }
   ],
   "source": [
    "import os\n",
    "from dotenv import load_dotenv\n",
    "load_dotenv()"
   ]
  },
  {
   "cell_type": "code",
   "execution_count": 51,
   "metadata": {},
   "outputs": [],
   "source": [
    "from langchain_openai import ChatOpenAI"
   ]
  },
  {
   "cell_type": "code",
   "execution_count": 52,
   "metadata": {},
   "outputs": [],
   "source": [
    "model = ChatOpenAI(model=\"gpt-4o-mini\")"
   ]
  },
  {
   "cell_type": "code",
   "execution_count": 53,
   "metadata": {},
   "outputs": [],
   "source": [
    "from langchain_core.messages import HumanMessage, AIMessage"
   ]
  },
  {
   "cell_type": "code",
   "execution_count": 54,
   "metadata": {},
   "outputs": [
    {
     "data": {
      "text/plain": [
       "AIMessage(content='Hello, Naji! How can I assist you today?', additional_kwargs={'refusal': None}, response_metadata={'token_usage': {'completion_tokens': 12, 'prompt_tokens': 12, 'total_tokens': 24, 'completion_tokens_details': {'accepted_prediction_tokens': 0, 'audio_tokens': 0, 'reasoning_tokens': 0, 'rejected_prediction_tokens': 0}, 'prompt_tokens_details': {'audio_tokens': 0, 'cached_tokens': 0}}, 'model_name': 'gpt-4o-mini-2024-07-18', 'system_fingerprint': 'fp_0705bf87c0', 'finish_reason': 'stop', 'logprobs': None}, id='run-0223d5bb-75e2-42fc-843b-5a90b3967cd9-0', usage_metadata={'input_tokens': 12, 'output_tokens': 12, 'total_tokens': 24, 'input_token_details': {'audio': 0, 'cache_read': 0}, 'output_token_details': {'audio': 0, 'reasoning': 0}})"
      ]
     },
     "execution_count": 54,
     "metadata": {},
     "output_type": "execute_result"
    }
   ],
   "source": [
    "model.invoke([\n",
    "    HumanMessage(content=\"I am Naji \")\n",
    "])"
   ]
  },
  {
   "cell_type": "code",
   "execution_count": 55,
   "metadata": {},
   "outputs": [
    {
     "data": {
      "text/plain": [
       "AIMessage(content=\"I'm sorry, but I don't know your name. If you tell me, I can use it in our conversation!\", additional_kwargs={'refusal': None}, response_metadata={'token_usage': {'completion_tokens': 23, 'prompt_tokens': 12, 'total_tokens': 35, 'completion_tokens_details': {'accepted_prediction_tokens': 0, 'audio_tokens': 0, 'reasoning_tokens': 0, 'rejected_prediction_tokens': 0}, 'prompt_tokens_details': {'audio_tokens': 0, 'cached_tokens': 0}}, 'model_name': 'gpt-4o-mini-2024-07-18', 'system_fingerprint': 'fp_0705bf87c0', 'finish_reason': 'stop', 'logprobs': None}, id='run-ac913665-9a27-4d65-b48e-8f3ffd00484c-0', usage_metadata={'input_tokens': 12, 'output_tokens': 23, 'total_tokens': 35, 'input_token_details': {'audio': 0, 'cache_read': 0}, 'output_token_details': {'audio': 0, 'reasoning': 0}})"
      ]
     },
     "execution_count": 55,
     "metadata": {},
     "output_type": "execute_result"
    }
   ],
   "source": [
    "model.invoke([\n",
    "    HumanMessage(content=\"What is my Name \")\n",
    "])"
   ]
  },
  {
   "cell_type": "code",
   "execution_count": 56,
   "metadata": {},
   "outputs": [
    {
     "data": {
      "text/plain": [
       "AIMessage(content='Your name is Naji. How can I help you today?', additional_kwargs={'refusal': None}, response_metadata={'token_usage': {'completion_tokens': 13, 'prompt_tokens': 36, 'total_tokens': 49, 'completion_tokens_details': {'accepted_prediction_tokens': 0, 'audio_tokens': 0, 'reasoning_tokens': 0, 'rejected_prediction_tokens': 0}, 'prompt_tokens_details': {'audio_tokens': 0, 'cached_tokens': 0}}, 'model_name': 'gpt-4o-mini-2024-07-18', 'system_fingerprint': 'fp_0705bf87c0', 'finish_reason': 'stop', 'logprobs': None}, id='run-417e439c-4bc8-4e28-af93-d740f10a67cc-0', usage_metadata={'input_tokens': 36, 'output_tokens': 13, 'total_tokens': 49, 'input_token_details': {'audio': 0, 'cache_read': 0}, 'output_token_details': {'audio': 0, 'reasoning': 0}})"
      ]
     },
     "execution_count": 56,
     "metadata": {},
     "output_type": "execute_result"
    }
   ],
   "source": [
    "model.invoke([\n",
    "    HumanMessage(content=\"I am Naji \"),\n",
    "    AIMessage(content=\"Hello, Naji! How can I assist you today\"),\n",
    "    HumanMessage(content=\"What is my Name \")\n",
    "\n",
    "])"
   ]
  },
  {
   "cell_type": "code",
   "execution_count": 57,
   "metadata": {},
   "outputs": [],
   "source": [
    "from langgraph.graph import StateGraph, START, END, MessagesState\n",
    "from langgraph.checkpoint.memory import  MemorySaver"
   ]
  },
  {
   "cell_type": "code",
   "execution_count": 58,
   "metadata": {},
   "outputs": [],
   "source": [
    "workflow = StateGraph(state_schema=MessagesState)"
   ]
  },
  {
   "cell_type": "code",
   "execution_count": 59,
   "metadata": {},
   "outputs": [],
   "source": [
    "def call_model(state: MessagesState):\n",
    "    respose = model.invoke(state[\"messages\"])\n",
    "    return {\"messages\": respose}"
   ]
  },
  {
   "cell_type": "code",
   "execution_count": 60,
   "metadata": {},
   "outputs": [
    {
     "data": {
      "text/plain": [
       "<langgraph.graph.state.StateGraph at 0x12ec37040>"
      ]
     },
     "execution_count": 60,
     "metadata": {},
     "output_type": "execute_result"
    }
   ],
   "source": [
    "workflow.add_node(\"model\", call_model)\n",
    "workflow.add_edge(START, \"model\")\n",
    "workflow.add_edge(\"model\", END)"
   ]
  },
  {
   "cell_type": "code",
   "execution_count": 61,
   "metadata": {},
   "outputs": [],
   "source": [
    "memory = MemorySaver()\n",
    "app = workflow.compile(checkpointer=memory)"
   ]
  },
  {
   "cell_type": "code",
   "execution_count": 69,
   "metadata": {},
   "outputs": [],
   "source": [
    "config = {\"configurable\": {\"thread_id\": \"abc123\"}}"
   ]
  },
  {
   "cell_type": "code",
   "execution_count": 63,
   "metadata": {},
   "outputs": [],
   "source": [
    "query = \" I am Naji\"\n",
    "input_message = [HumanMessage(query)]\n",
    "output = app.invoke({\"messages\": input_message}, config)"
   ]
  },
  {
   "cell_type": "code",
   "execution_count": 65,
   "metadata": {},
   "outputs": [
    {
     "name": "stdout",
     "output_type": "stream",
     "text": [
      "==================================\u001b[1m Ai Message \u001b[0m==================================\n",
      "\n",
      "Hello, Naji! How can I assist you today?\n"
     ]
    }
   ],
   "source": [
    "output[\"messages\"][-1].pretty_print()"
   ]
  },
  {
   "cell_type": "code",
   "execution_count": 66,
   "metadata": {},
   "outputs": [
    {
     "name": "stdout",
     "output_type": "stream",
     "text": [
      "==================================\u001b[1m Ai Message \u001b[0m==================================\n",
      "\n",
      "Your name is Naji. How can I help you today?\n"
     ]
    }
   ],
   "source": [
    "query = \"What is my name\"\n",
    "input_message = [HumanMessage(query)]\n",
    "output = app.invoke({\"messages\": input_message}, config)\n",
    "output[\"messages\"][-1].pretty_print()"
   ]
  },
  {
   "cell_type": "code",
   "execution_count": 67,
   "metadata": {},
   "outputs": [
    {
     "name": "stdout",
     "output_type": "stream",
     "text": [
      "==================================\u001b[1m Ai Message \u001b[0m==================================\n",
      "\n",
      "I'm sorry, but I don't have access to personal information about users unless you provide it during the conversation. What would you like me to call you?\n"
     ]
    }
   ],
   "source": [
    "config = {\"configurable\": {\"thread_id\": \"abc124\"}}\n",
    "query = \"What is my name\"\n",
    "input_message = [HumanMessage(query)]\n",
    "output = app.invoke({\"messages\": input_message}, config)\n",
    "output[\"messages\"][-1].pretty_print()"
   ]
  },
  {
   "cell_type": "code",
   "execution_count": 71,
   "metadata": {},
   "outputs": [
    {
     "name": "stdout",
     "output_type": "stream",
     "text": [
      "CheckpointTuple(config={'configurable': {'thread_id': 'abc123', 'checkpoint_ns': '', 'checkpoint_id': '1efb209e-cba9-6d5e-8004-e24e9de3cf44'}}, checkpoint={'v': 1, 'ts': '2024-12-04T06:35:16.787676+00:00', 'id': '1efb209e-cba9-6d5e-8004-e24e9de3cf44', 'channel_values': {'messages': [HumanMessage(content=' I am Naji', additional_kwargs={}, response_metadata={}, id='7ec7d1f8-b9bb-4c22-8521-230db89443e0'), AIMessage(content='Hello, Naji! How can I assist you today?', additional_kwargs={'refusal': None}, response_metadata={'token_usage': {'completion_tokens': 12, 'prompt_tokens': 11, 'total_tokens': 23, 'completion_tokens_details': {'accepted_prediction_tokens': 0, 'audio_tokens': 0, 'reasoning_tokens': 0, 'rejected_prediction_tokens': 0}, 'prompt_tokens_details': {'audio_tokens': 0, 'cached_tokens': 0}}, 'model_name': 'gpt-4o-mini-2024-07-18', 'system_fingerprint': 'fp_3de1288069', 'finish_reason': 'stop', 'logprobs': None}, id='run-5614411b-e501-4046-8df9-e6d7681ed0be-0', usage_metadata={'input_tokens': 11, 'output_tokens': 12, 'total_tokens': 23, 'input_token_details': {'audio': 0, 'cache_read': 0}, 'output_token_details': {'audio': 0, 'reasoning': 0}}), HumanMessage(content='What is my name', additional_kwargs={}, response_metadata={}, id='2b405813-51af-46ea-9ca0-ed7fe44fcb1f'), AIMessage(content='Your name is Naji. How can I help you today?', additional_kwargs={'refusal': None}, response_metadata={'token_usage': {'completion_tokens': 13, 'prompt_tokens': 35, 'total_tokens': 48, 'completion_tokens_details': {'accepted_prediction_tokens': 0, 'audio_tokens': 0, 'reasoning_tokens': 0, 'rejected_prediction_tokens': 0}, 'prompt_tokens_details': {'audio_tokens': 0, 'cached_tokens': 0}}, 'model_name': 'gpt-4o-mini-2024-07-18', 'system_fingerprint': 'fp_0705bf87c0', 'finish_reason': 'stop', 'logprobs': None}, id='run-45229e20-5405-413f-be4f-b5f0db9505c0-0', usage_metadata={'input_tokens': 35, 'output_tokens': 13, 'total_tokens': 48, 'input_token_details': {'audio': 0, 'cache_read': 0}, 'output_token_details': {'audio': 0, 'reasoning': 0}})], 'model': 'model'}, 'channel_versions': {'__start__': '00000000000000000000000000000005.0.5736797391635665', 'messages': '00000000000000000000000000000006.0.6618562248836335', 'start:model': '00000000000000000000000000000006.0.4611502705326549', 'model': '00000000000000000000000000000006.0.07842665938609716'}, 'versions_seen': {'__input__': {}, '__start__': {'__start__': '00000000000000000000000000000004.0.7820049816852067'}, 'model': {'start:model': '00000000000000000000000000000005.0.7587652940987284'}}, 'pending_sends': []}, metadata={'source': 'loop', 'writes': {'model': {'messages': AIMessage(content='Your name is Naji. How can I help you today?', additional_kwargs={'refusal': None}, response_metadata={'token_usage': {'completion_tokens': 13, 'prompt_tokens': 35, 'total_tokens': 48, 'completion_tokens_details': {'accepted_prediction_tokens': 0, 'audio_tokens': 0, 'reasoning_tokens': 0, 'rejected_prediction_tokens': 0}, 'prompt_tokens_details': {'audio_tokens': 0, 'cached_tokens': 0}}, 'model_name': 'gpt-4o-mini-2024-07-18', 'system_fingerprint': 'fp_0705bf87c0', 'finish_reason': 'stop', 'logprobs': None}, id='run-45229e20-5405-413f-be4f-b5f0db9505c0-0', usage_metadata={'input_tokens': 35, 'output_tokens': 13, 'total_tokens': 48, 'input_token_details': {'audio': 0, 'cache_read': 0}, 'output_token_details': {'audio': 0, 'reasoning': 0}})}}, 'step': 4, 'parents': {}}, parent_config={'configurable': {'thread_id': 'abc123', 'checkpoint_ns': '', 'checkpoint_id': '1efb209e-c13f-6b34-8003-6cfe4e821c49'}}, pending_writes=[])\n",
      "CheckpointTuple(config={'configurable': {'thread_id': 'abc123', 'checkpoint_ns': '', 'checkpoint_id': '1efb209e-c13f-6b34-8003-6cfe4e821c49'}}, checkpoint={'v': 1, 'ts': '2024-12-04T06:35:15.695672+00:00', 'id': '1efb209e-c13f-6b34-8003-6cfe4e821c49', 'channel_values': {'messages': [HumanMessage(content=' I am Naji', additional_kwargs={}, response_metadata={}, id='7ec7d1f8-b9bb-4c22-8521-230db89443e0'), AIMessage(content='Hello, Naji! How can I assist you today?', additional_kwargs={'refusal': None}, response_metadata={'token_usage': {'completion_tokens': 12, 'prompt_tokens': 11, 'total_tokens': 23, 'completion_tokens_details': {'accepted_prediction_tokens': 0, 'audio_tokens': 0, 'reasoning_tokens': 0, 'rejected_prediction_tokens': 0}, 'prompt_tokens_details': {'audio_tokens': 0, 'cached_tokens': 0}}, 'model_name': 'gpt-4o-mini-2024-07-18', 'system_fingerprint': 'fp_3de1288069', 'finish_reason': 'stop', 'logprobs': None}, id='run-5614411b-e501-4046-8df9-e6d7681ed0be-0', usage_metadata={'input_tokens': 11, 'output_tokens': 12, 'total_tokens': 23, 'input_token_details': {'audio': 0, 'cache_read': 0}, 'output_token_details': {'audio': 0, 'reasoning': 0}}), HumanMessage(content='What is my name', additional_kwargs={}, response_metadata={}, id='2b405813-51af-46ea-9ca0-ed7fe44fcb1f')], 'start:model': '__start__'}, 'channel_versions': {'__start__': '00000000000000000000000000000005.0.5736797391635665', 'messages': '00000000000000000000000000000005.0.8158296093941417', 'start:model': '00000000000000000000000000000005.0.7587652940987284', 'model': '00000000000000000000000000000004.0.5429662772390518'}, 'versions_seen': {'__input__': {}, '__start__': {'__start__': '00000000000000000000000000000004.0.7820049816852067'}, 'model': {'start:model': '00000000000000000000000000000002.0.6363389584646212'}}, 'pending_sends': []}, metadata={'source': 'loop', 'writes': None, 'step': 3, 'parents': {}}, parent_config={'configurable': {'thread_id': 'abc123', 'checkpoint_ns': '', 'checkpoint_id': '1efb209e-c13c-6a7e-8002-706bc02e24fb'}}, pending_writes=[('2aca3dd6-a4c2-59d0-1222-ce410845944d', 'model', 'model'), ('2aca3dd6-a4c2-59d0-1222-ce410845944d', 'messages', AIMessage(content='Your name is Naji. How can I help you today?', additional_kwargs={'refusal': None}, response_metadata={'token_usage': {'completion_tokens': 13, 'prompt_tokens': 35, 'total_tokens': 48, 'completion_tokens_details': {'accepted_prediction_tokens': 0, 'audio_tokens': 0, 'reasoning_tokens': 0, 'rejected_prediction_tokens': 0}, 'prompt_tokens_details': {'audio_tokens': 0, 'cached_tokens': 0}}, 'model_name': 'gpt-4o-mini-2024-07-18', 'system_fingerprint': 'fp_0705bf87c0', 'finish_reason': 'stop', 'logprobs': None}, id='run-45229e20-5405-413f-be4f-b5f0db9505c0-0', usage_metadata={'input_tokens': 35, 'output_tokens': 13, 'total_tokens': 48, 'input_token_details': {'audio': 0, 'cache_read': 0}, 'output_token_details': {'audio': 0, 'reasoning': 0}}))])\n",
      "CheckpointTuple(config={'configurable': {'thread_id': 'abc123', 'checkpoint_ns': '', 'checkpoint_id': '1efb209e-c13c-6a7e-8002-706bc02e24fb'}}, checkpoint={'v': 1, 'ts': '2024-12-04T06:35:15.694431+00:00', 'id': '1efb209e-c13c-6a7e-8002-706bc02e24fb', 'channel_values': {'messages': [HumanMessage(content=' I am Naji', additional_kwargs={}, response_metadata={}, id='7ec7d1f8-b9bb-4c22-8521-230db89443e0'), AIMessage(content='Hello, Naji! How can I assist you today?', additional_kwargs={'refusal': None}, response_metadata={'token_usage': {'completion_tokens': 12, 'prompt_tokens': 11, 'total_tokens': 23, 'completion_tokens_details': {'accepted_prediction_tokens': 0, 'audio_tokens': 0, 'reasoning_tokens': 0, 'rejected_prediction_tokens': 0}, 'prompt_tokens_details': {'audio_tokens': 0, 'cached_tokens': 0}}, 'model_name': 'gpt-4o-mini-2024-07-18', 'system_fingerprint': 'fp_3de1288069', 'finish_reason': 'stop', 'logprobs': None}, id='run-5614411b-e501-4046-8df9-e6d7681ed0be-0', usage_metadata={'input_tokens': 11, 'output_tokens': 12, 'total_tokens': 23, 'input_token_details': {'audio': 0, 'cache_read': 0}, 'output_token_details': {'audio': 0, 'reasoning': 0}})], '__start__': {'messages': [HumanMessage(content='What is my name', additional_kwargs={}, response_metadata={})]}}, 'channel_versions': {'__start__': '00000000000000000000000000000004.0.7820049816852067', 'messages': '00000000000000000000000000000003.0.7005568358861081', 'start:model': '00000000000000000000000000000003.0.5990864688635155', 'model': '00000000000000000000000000000004.0.5429662772390518'}, 'versions_seen': {'__input__': {}, '__start__': {'__start__': '00000000000000000000000000000001.0.9361531753721065'}, 'model': {'start:model': '00000000000000000000000000000002.0.6363389584646212'}}, 'pending_sends': []}, metadata={'source': 'input', 'writes': {'__start__': {'messages': [HumanMessage(content='What is my name', additional_kwargs={}, response_metadata={})]}}, 'step': 2, 'parents': {}}, parent_config={'configurable': {'thread_id': 'abc123', 'checkpoint_ns': '', 'checkpoint_id': '1efb209d-0a1f-6f9a-8001-a43575bda3ad'}}, pending_writes=[('c8c07aee-bdb7-55bb-ada3-d15f462854de', 'messages', [HumanMessage(content='What is my name', additional_kwargs={}, response_metadata={}, id='2b405813-51af-46ea-9ca0-ed7fe44fcb1f')]), ('c8c07aee-bdb7-55bb-ada3-d15f462854de', 'start:model', '__start__')])\n",
      "CheckpointTuple(config={'configurable': {'thread_id': 'abc123', 'checkpoint_ns': '', 'checkpoint_id': '1efb209d-0a1f-6f9a-8001-a43575bda3ad'}}, checkpoint={'v': 1, 'ts': '2024-12-04T06:34:29.650174+00:00', 'id': '1efb209d-0a1f-6f9a-8001-a43575bda3ad', 'channel_values': {'messages': [HumanMessage(content=' I am Naji', additional_kwargs={}, response_metadata={}, id='7ec7d1f8-b9bb-4c22-8521-230db89443e0'), AIMessage(content='Hello, Naji! How can I assist you today?', additional_kwargs={'refusal': None}, response_metadata={'token_usage': {'completion_tokens': 12, 'prompt_tokens': 11, 'total_tokens': 23, 'completion_tokens_details': {'accepted_prediction_tokens': 0, 'audio_tokens': 0, 'reasoning_tokens': 0, 'rejected_prediction_tokens': 0}, 'prompt_tokens_details': {'audio_tokens': 0, 'cached_tokens': 0}}, 'model_name': 'gpt-4o-mini-2024-07-18', 'system_fingerprint': 'fp_3de1288069', 'finish_reason': 'stop', 'logprobs': None}, id='run-5614411b-e501-4046-8df9-e6d7681ed0be-0', usage_metadata={'input_tokens': 11, 'output_tokens': 12, 'total_tokens': 23, 'input_token_details': {'audio': 0, 'cache_read': 0}, 'output_token_details': {'audio': 0, 'reasoning': 0}})], 'model': 'model'}, 'channel_versions': {'__start__': '00000000000000000000000000000002.0.14894667027414266', 'messages': '00000000000000000000000000000003.0.7005568358861081', 'start:model': '00000000000000000000000000000003.0.5990864688635155', 'model': '00000000000000000000000000000003.0.6365624707192203'}, 'versions_seen': {'__input__': {}, '__start__': {'__start__': '00000000000000000000000000000001.0.9361531753721065'}, 'model': {'start:model': '00000000000000000000000000000002.0.6363389584646212'}}, 'pending_sends': []}, metadata={'source': 'loop', 'writes': {'model': {'messages': AIMessage(content='Hello, Naji! How can I assist you today?', additional_kwargs={'refusal': None}, response_metadata={'token_usage': {'completion_tokens': 12, 'prompt_tokens': 11, 'total_tokens': 23, 'completion_tokens_details': {'accepted_prediction_tokens': 0, 'audio_tokens': 0, 'reasoning_tokens': 0, 'rejected_prediction_tokens': 0}, 'prompt_tokens_details': {'audio_tokens': 0, 'cached_tokens': 0}}, 'model_name': 'gpt-4o-mini-2024-07-18', 'system_fingerprint': 'fp_3de1288069', 'finish_reason': 'stop', 'logprobs': None}, id='run-5614411b-e501-4046-8df9-e6d7681ed0be-0', usage_metadata={'input_tokens': 11, 'output_tokens': 12, 'total_tokens': 23, 'input_token_details': {'audio': 0, 'cache_read': 0}, 'output_token_details': {'audio': 0, 'reasoning': 0}})}}, 'step': 1, 'parents': {}}, parent_config={'configurable': {'thread_id': 'abc123', 'checkpoint_ns': '', 'checkpoint_id': '1efb209d-003d-6a54-8000-9419bd6cd94f'}}, pending_writes=[])\n",
      "CheckpointTuple(config={'configurable': {'thread_id': 'abc123', 'checkpoint_ns': '', 'checkpoint_id': '1efb209d-003d-6a54-8000-9419bd6cd94f'}}, checkpoint={'v': 1, 'ts': '2024-12-04T06:34:28.613769+00:00', 'id': '1efb209d-003d-6a54-8000-9419bd6cd94f', 'channel_values': {'messages': [HumanMessage(content=' I am Naji', additional_kwargs={}, response_metadata={}, id='7ec7d1f8-b9bb-4c22-8521-230db89443e0')], 'start:model': '__start__'}, 'channel_versions': {'__start__': '00000000000000000000000000000002.0.14894667027414266', 'messages': '00000000000000000000000000000002.0.9327112138480651', 'start:model': '00000000000000000000000000000002.0.6363389584646212'}, 'versions_seen': {'__input__': {}, '__start__': {'__start__': '00000000000000000000000000000001.0.9361531753721065'}}, 'pending_sends': []}, metadata={'source': 'loop', 'writes': None, 'step': 0, 'parents': {}}, parent_config={'configurable': {'thread_id': 'abc123', 'checkpoint_ns': '', 'checkpoint_id': '1efb209d-003a-65ac-bfff-d5e451cce6f9'}}, pending_writes=[('5cfb94e3-dd83-30eb-1d3e-b404904f80fc', 'model', 'model'), ('5cfb94e3-dd83-30eb-1d3e-b404904f80fc', 'messages', AIMessage(content='Hello, Naji! How can I assist you today?', additional_kwargs={'refusal': None}, response_metadata={'token_usage': {'completion_tokens': 12, 'prompt_tokens': 11, 'total_tokens': 23, 'completion_tokens_details': {'accepted_prediction_tokens': 0, 'audio_tokens': 0, 'reasoning_tokens': 0, 'rejected_prediction_tokens': 0}, 'prompt_tokens_details': {'audio_tokens': 0, 'cached_tokens': 0}}, 'model_name': 'gpt-4o-mini-2024-07-18', 'system_fingerprint': 'fp_3de1288069', 'finish_reason': 'stop', 'logprobs': None}, id='run-5614411b-e501-4046-8df9-e6d7681ed0be-0', usage_metadata={'input_tokens': 11, 'output_tokens': 12, 'total_tokens': 23, 'input_token_details': {'audio': 0, 'cache_read': 0}, 'output_token_details': {'audio': 0, 'reasoning': 0}}))])\n",
      "CheckpointTuple(config={'configurable': {'thread_id': 'abc123', 'checkpoint_ns': '', 'checkpoint_id': '1efb209d-003a-65ac-bfff-d5e451cce6f9'}}, checkpoint={'v': 1, 'ts': '2024-12-04T06:34:28.612437+00:00', 'id': '1efb209d-003a-65ac-bfff-d5e451cce6f9', 'channel_values': {'__start__': {'messages': [HumanMessage(content=' I am Naji', additional_kwargs={}, response_metadata={})]}}, 'channel_versions': {'__start__': '00000000000000000000000000000001.0.9361531753721065'}, 'versions_seen': {'__input__': {}}, 'pending_sends': []}, metadata={'source': 'input', 'writes': {'__start__': {'messages': [HumanMessage(content=' I am Naji', additional_kwargs={}, response_metadata={})]}}, 'step': -1, 'parents': {}}, parent_config=None, pending_writes=[('523a554e-e29a-cd07-506a-9ad44798f493', 'messages', [HumanMessage(content=' I am Naji', additional_kwargs={}, response_metadata={}, id='7ec7d1f8-b9bb-4c22-8521-230db89443e0')]), ('523a554e-e29a-cd07-506a-9ad44798f493', 'start:model', '__start__')])\n"
     ]
    }
   ],
   "source": [
    "for mem in memory.list(config):\n",
    "    print(mem)"
   ]
  },
  {
   "cell_type": "code",
   "execution_count": 72,
   "metadata": {},
   "outputs": [
    {
     "data": {
      "image/jpeg": "[encoded data removed]",
      "text/plain": [
       "<IPython.core.display.Image object>"
      ]
     },
     "metadata": {},
     "output_type": "display_data"
    }
   ],
   "source": [
    "from IPython.display import Image, display\n",
    "display(Image(app.get_graph().draw_mermaid_png()))"
   ]
  },
  {
   "cell_type": "code",
   "execution_count": null,
   "metadata": {},
   "outputs": [],
   "source": []
  }
 ],
 "metadata": {
  "kernelspec": {
   "display_name": "Python 3",
   "language": "python",
   "name": "python3"
  },
  "language_info": {
   "codemirror_mode": {
    "name": "ipython",
    "version": 3
   },
   "file_extension": ".py",
   "mimetype": "text/x-python",
   "name": "python",
   "nbconvert_exporter": "python",
   "pygments_lexer": "ipython3",
   "version": "3.10.15"
  }
 },
 "nbformat": 4,
 "nbformat_minor": 2
}
