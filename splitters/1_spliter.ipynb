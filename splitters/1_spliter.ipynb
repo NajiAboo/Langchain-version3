{
 "cells": [
  {
   "cell_type": "code",
   "execution_count": 101,
   "metadata": {},
   "outputs": [],
   "source": [
    "text = \"\"\"\n",
    "Lorem ipsum dolor sit amet, consectetur adipiscing elit. Sed do eiusmod tempor incididunt ut labore et dolore magna aliqua. \n",
    "Ut enim ad minim veniam, quis nostrud exercitation ullamco laboris nisi ut aliquip ex ea commodo consequat. \n",
    "Duis aute irure dolor in reprehenderit in voluptate velit esse cillum dolore eu fugiat nulla pariatur. \n",
    "Excepteur sint occaecat cupidatat non proident, sunt in culpa qui officia deserunt mollit anim id est laborum.\n",
    "\"\"\""
   ]
  },
  {
   "cell_type": "code",
   "execution_count": 102,
   "metadata": {},
   "outputs": [],
   "source": [
    "from langchain.text_splitter import CharacterTextSplitter"
   ]
  },
  {
   "cell_type": "code",
   "execution_count": 106,
   "metadata": {},
   "outputs": [],
   "source": [
    "char_splitter = CharacterTextSplitter(separator=\" \", chunk_size = 50, chunk_overlap=10)"
   ]
  },
  {
   "cell_type": "code",
   "execution_count": 107,
   "metadata": {},
   "outputs": [],
   "source": [
    "char_chunks = char_splitter.split_text(text=text)"
   ]
  },
  {
   "cell_type": "code",
   "execution_count": 108,
   "metadata": {},
   "outputs": [
    {
     "name": "stdout",
     "output_type": "stream",
     "text": [
      "chunk : 1: Lorem ipsum dolor sit amet, consectetur \n",
      "\n",
      "chunk : 2: adipiscing elit. Sed do eiusmod tempor incididunt \n",
      "\n",
      "chunk : 3: incididunt ut labore et dolore magna aliqua. \n",
      "Ut \n",
      "\n",
      "chunk : 4: Ut enim ad minim veniam, quis nostrud \n",
      "\n",
      "chunk : 5: nostrud exercitation ullamco laboris nisi ut \n",
      "\n",
      "chunk : 6: nisi ut aliquip ex ea commodo consequat. \n",
      "Duis \n",
      "\n",
      "chunk : 7: Duis aute irure dolor in reprehenderit in \n",
      "\n",
      "chunk : 8: in voluptate velit esse cillum dolore eu fugiat \n",
      "\n",
      "chunk : 9: eu fugiat nulla pariatur. \n",
      "Excepteur sint occaecat \n",
      "\n",
      "chunk : 10: occaecat cupidatat non proident, sunt in culpa qui \n",
      "\n",
      "chunk : 11: culpa qui officia deserunt mollit anim id est \n",
      "\n",
      "chunk : 12: id est laborum. \n",
      "\n"
     ]
    }
   ],
   "source": [
    "for i, chunk in enumerate(char_chunks):\n",
    "    print(f\"chunk : {i+1}: {chunk} \\n\")"
   ]
  },
  {
   "cell_type": "code",
   "execution_count": null,
   "metadata": {},
   "outputs": [],
   "source": []
  }
 ],
 "metadata": {
  "kernelspec": {
   "display_name": "Python 3",
   "language": "python",
   "name": "python3"
  },
  "language_info": {
   "codemirror_mode": {
    "name": "ipython",
    "version": 3
   },
   "file_extension": ".py",
   "mimetype": "text/x-python",
   "name": "python",
   "nbconvert_exporter": "python",
   "pygments_lexer": "ipython3",
   "version": "3.10.15"
  }
 },
 "nbformat": 4,
 "nbformat_minor": 2
}
