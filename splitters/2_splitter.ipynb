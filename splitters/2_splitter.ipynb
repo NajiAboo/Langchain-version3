{
 "cells": [
  {
   "cell_type": "code",
   "execution_count": 10,
   "metadata": {},
   "outputs": [],
   "source": [
    "text = \"\"\"\n",
    "Lorem ipsum dolor sit amet, consecteturiamteachinglangchainanditssplittersxxxxxx adipiscing elit. Sed do eiusmod tempor incididunt ut labore et dolore magna aliqua. \n",
    "Ut enim ad minim veniam, quis nostrud exercitation ullamco laboris nisi ut aliquip ex ea commodo consequat. \n",
    "Duis aute irure dolor in reprehenderit in voluptate velit esse cillum dolore eu fugiat nulla pariatur. \n",
    "Excepteur sint occaecat cupidatat non proident, sunt in culpa qui officia deserunt mollit anim id est laborum.\n",
    "\"\"\""
   ]
  },
  {
   "cell_type": "code",
   "execution_count": 2,
   "metadata": {},
   "outputs": [],
   "source": [
    "from langchain.text_splitter import RecursiveCharacterTextSplitter"
   ]
  },
  {
   "cell_type": "code",
   "execution_count": 4,
   "metadata": {},
   "outputs": [
    {
     "name": "stdout",
     "output_type": "stream",
     "text": [
      "chunk 1: Lorem ipsum dolor sit amet, consectetur  length = 39 \n",
      "\n",
      "chunk 2: amet, consectetur adipiscing elit. Sed do eiusmod  length = 49 \n",
      "\n",
      "chunk 3: Sed do eiusmod tempor incididunt ut labore et  length = 45 \n",
      "\n",
      "chunk 4: ut labore et dolore magna aliqua.  length = 33 \n",
      "\n",
      "chunk 5: Ut enim ad minim veniam, quis nostrud  length = 37 \n",
      "\n",
      "chunk 6: quis nostrud exercitation ullamco laboris nisi ut  length = 49 \n",
      "\n",
      "chunk 7: laboris nisi ut aliquip ex ea commodo consequat.  length = 48 \n",
      "\n",
      "chunk 8: Duis aute irure dolor in reprehenderit in  length = 41 \n",
      "\n",
      "chunk 9: in reprehenderit in voluptate velit esse cillum  length = 47 \n",
      "\n",
      "chunk 10: velit esse cillum dolore eu fugiat nulla  length = 40 \n",
      "\n",
      "chunk 11: eu fugiat nulla pariatur.  length = 25 \n",
      "\n",
      "chunk 12: Excepteur sint occaecat cupidatat non proident,  length = 47 \n",
      "\n",
      "chunk 13: non proident, sunt in culpa qui officia deserunt  length = 48 \n",
      "\n",
      "chunk 14: officia deserunt mollit anim id est laborum.  length = 44 \n",
      "\n"
     ]
    }
   ],
   "source": [
    "rec_splitter = RecursiveCharacterTextSplitter(chunk_size = 50, chunk_overlap=20)\n",
    "chunks = rec_splitter.split_text(text=text)\n",
    "for i, chunk in enumerate(chunks):\n",
    "    print(f\"chunk {i+1}: {chunk}  length = {len(chunk)} \\n\")"
   ]
  },
  {
   "cell_type": "code",
   "execution_count": null,
   "metadata": {},
   "outputs": [],
   "source": [
    "[\"\\n\\n\", \"\\n\",\" \", \"\"]"
   ]
  },
  {
   "cell_type": "code",
   "execution_count": 5,
   "metadata": {},
   "outputs": [
    {
     "name": "stdout",
     "output_type": "stream",
     "text": [
      "chunk 1: \n",
      "Lorem ipsum dolor sit amet, consectetur adipiscing elit. Sed do eiusmod tempor incididunt ut labore et dolore magna aliqua. \n",
      "Ut enim ad minim veniam, quis nostrud exercitation ullamco laboris nisi ut aliquip ex ea commodo consequat. \n",
      "Duis aute irure dolor in reprehenderit in voluptate velit esse cillum dolore eu fugiat nulla pariatur. \n",
      "Excepteur sint occaecat cupidatat non proident, sunt in culpa qui officia deserunt mollit anim id est laborum.\n",
      "  length = 450 \n",
      "\n"
     ]
    }
   ],
   "source": [
    "rec_splitter = RecursiveCharacterTextSplitter(separators=[\"\\n\\n\"], chunk_size = 50, chunk_overlap=20)\n",
    "chunks = rec_splitter.split_text(text=text)\n",
    "for i, chunk in enumerate(chunks):\n",
    "    print(f\"chunk {i+1}: {chunk}  length = {len(chunk)} \\n\")"
   ]
  },
  {
   "cell_type": "code",
   "execution_count": 6,
   "metadata": {},
   "outputs": [
    {
     "name": "stdout",
     "output_type": "stream",
     "text": [
      "chunk 1: \n",
      "Lorem ipsum dolor sit amet, consectetur adipiscing elit. Sed do eiusmod tempor incididunt ut labore et dolore magna aliqua.   length = 125 \n",
      "\n",
      "chunk 2: \n",
      "Ut enim ad minim veniam, quis nostrud exercitation ullamco laboris nisi ut aliquip ex ea commodo consequat.   length = 109 \n",
      "\n",
      "chunk 3: \n",
      "Duis aute irure dolor in reprehenderit in voluptate velit esse cillum dolore eu fugiat nulla pariatur.   length = 104 \n",
      "\n",
      "chunk 4: \n",
      "Excepteur sint occaecat cupidatat non proident, sunt in culpa qui officia deserunt mollit anim id est laborum.  length = 111 \n",
      "\n"
     ]
    }
   ],
   "source": [
    "rec_splitter = RecursiveCharacterTextSplitter(separators=[\"\\n\\n\",\"\\n\"], chunk_size = 50, chunk_overlap=20)\n",
    "chunks = rec_splitter.split_text(text=text)\n",
    "for i, chunk in enumerate(chunks):\n",
    "    print(f\"chunk {i+1}: {chunk}  length = {len(chunk)} \\n\")"
   ]
  },
  {
   "cell_type": "code",
   "execution_count": 11,
   "metadata": {},
   "outputs": [
    {
     "name": "stdout",
     "output_type": "stream",
     "text": [
      "chunk 1: Lorem ipsum dolor sit amet,  length = 27 \n",
      "\n",
      "chunk 2:  consecteturiamteachinglangchainanditssplittersxxxxxx  length = 53 \n",
      "\n",
      "chunk 3: adipiscing elit. Sed do eiusmod tempor incididunt  length = 49 \n",
      "\n",
      "chunk 4: tempor incididunt ut labore et dolore magna  length = 43 \n",
      "\n",
      "chunk 5: et dolore magna aliqua.  length = 23 \n",
      "\n",
      "chunk 6: Ut enim ad minim veniam, quis nostrud  length = 37 \n",
      "\n",
      "chunk 7: quis nostrud exercitation ullamco laboris nisi ut  length = 49 \n",
      "\n",
      "chunk 8: laboris nisi ut aliquip ex ea commodo consequat.  length = 48 \n",
      "\n",
      "chunk 9: Duis aute irure dolor in reprehenderit in  length = 41 \n",
      "\n",
      "chunk 10: in reprehenderit in voluptate velit esse cillum  length = 47 \n",
      "\n",
      "chunk 11: velit esse cillum dolore eu fugiat nulla  length = 40 \n",
      "\n",
      "chunk 12: eu fugiat nulla pariatur.  length = 25 \n",
      "\n",
      "chunk 13: Excepteur sint occaecat cupidatat non proident,  length = 47 \n",
      "\n",
      "chunk 14: non proident, sunt in culpa qui officia deserunt  length = 48 \n",
      "\n",
      "chunk 15: officia deserunt mollit anim id est laborum.  length = 44 \n",
      "\n"
     ]
    }
   ],
   "source": [
    "rec_splitter = RecursiveCharacterTextSplitter(separators=[\"\\n\\n\",\"\\n\",\" \"], chunk_size = 50, chunk_overlap=20)\n",
    "chunks = rec_splitter.split_text(text=text)\n",
    "for i, chunk in enumerate(chunks):\n",
    "    print(f\"chunk {i+1}: {chunk}  length = {len(chunk)} \\n\")"
   ]
  },
  {
   "cell_type": "code",
   "execution_count": 12,
   "metadata": {},
   "outputs": [
    {
     "name": "stdout",
     "output_type": "stream",
     "text": [
      "chunk 1: Lorem ipsum dolor sit amet,  length = 27 \n",
      "\n",
      "chunk 2: consecteturiamteachinglangchainanditssplittersxxx  length = 49 \n",
      "\n",
      "chunk 3: inanditssplittersxxxxxx  length = 23 \n",
      "\n",
      "chunk 4: adipiscing elit. Sed do eiusmod tempor incididunt  length = 49 \n",
      "\n",
      "chunk 5: tempor incididunt ut labore et dolore magna  length = 43 \n",
      "\n",
      "chunk 6: et dolore magna aliqua.  length = 23 \n",
      "\n",
      "chunk 7: Ut enim ad minim veniam, quis nostrud  length = 37 \n",
      "\n",
      "chunk 8: quis nostrud exercitation ullamco laboris nisi ut  length = 49 \n",
      "\n",
      "chunk 9: laboris nisi ut aliquip ex ea commodo consequat.  length = 48 \n",
      "\n",
      "chunk 10: Duis aute irure dolor in reprehenderit in  length = 41 \n",
      "\n",
      "chunk 11: in reprehenderit in voluptate velit esse cillum  length = 47 \n",
      "\n",
      "chunk 12: velit esse cillum dolore eu fugiat nulla  length = 40 \n",
      "\n",
      "chunk 13: eu fugiat nulla pariatur.  length = 25 \n",
      "\n",
      "chunk 14: Excepteur sint occaecat cupidatat non proident,  length = 47 \n",
      "\n",
      "chunk 15: non proident, sunt in culpa qui officia deserunt  length = 48 \n",
      "\n",
      "chunk 16: officia deserunt mollit anim id est laborum.  length = 44 \n",
      "\n"
     ]
    }
   ],
   "source": [
    "rec_splitter = RecursiveCharacterTextSplitter(separators=[\"\\n\\n\",\"\\n\",\" \",\"\"], chunk_size = 50, chunk_overlap=20)\n",
    "chunks = rec_splitter.split_text(text=text)\n",
    "for i, chunk in enumerate(chunks):\n",
    "    print(f\"chunk {i+1}: {chunk}  length = {len(chunk)} \\n\")"
   ]
  },
  {
   "cell_type": "code",
   "execution_count": 13,
   "metadata": {},
   "outputs": [],
   "source": [
    "from langchain.document_loaders import TextLoader"
   ]
  },
  {
   "cell_type": "code",
   "execution_count": 14,
   "metadata": {},
   "outputs": [],
   "source": [
    "loader = TextLoader(\"/Users/mohamednajiaboo/Desktop/Langchain/samples/state_of_the_union.txt\")"
   ]
  },
  {
   "cell_type": "code",
   "execution_count": 15,
   "metadata": {},
   "outputs": [],
   "source": [
    "docs = loader.load()"
   ]
  },
  {
   "cell_type": "code",
   "execution_count": 16,
   "metadata": {},
   "outputs": [],
   "source": [
    "s_data = rec_splitter.split_documents(documents=docs)"
   ]
  },
  {
   "cell_type": "code",
   "execution_count": 17,
   "metadata": {},
   "outputs": [
    {
     "data": {
      "text/plain": [
       "1226"
      ]
     },
     "execution_count": 17,
     "metadata": {},
     "output_type": "execute_result"
    }
   ],
   "source": [
    "len(s_data)"
   ]
  },
  {
   "cell_type": "code",
   "execution_count": 18,
   "metadata": {},
   "outputs": [
    {
     "data": {
      "text/plain": [
       "'Madam Speaker, Madam Vice President, our First'"
      ]
     },
     "execution_count": 18,
     "metadata": {},
     "output_type": "execute_result"
    }
   ],
   "source": [
    "s_data[0].page_content"
   ]
  },
  {
   "cell_type": "code",
   "execution_count": 19,
   "metadata": {},
   "outputs": [
    {
     "data": {
      "text/plain": [
       "46"
      ]
     },
     "execution_count": 19,
     "metadata": {},
     "output_type": "execute_result"
    }
   ],
   "source": [
    "len(s_data[0].page_content)"
   ]
  },
  {
   "cell_type": "code",
   "execution_count": 20,
   "metadata": {},
   "outputs": [
    {
     "data": {
      "text/plain": [
       "'our First Lady and Second Gentleman. Members of'"
      ]
     },
     "execution_count": 20,
     "metadata": {},
     "output_type": "execute_result"
    }
   ],
   "source": [
    "s_data[1].page_content"
   ]
  },
  {
   "cell_type": "code",
   "execution_count": null,
   "metadata": {},
   "outputs": [],
   "source": []
  }
 ],
 "metadata": {
  "kernelspec": {
   "display_name": "Python 3",
   "language": "python",
   "name": "python3"
  },
  "language_info": {
   "codemirror_mode": {
    "name": "ipython",
    "version": 3
   },
   "file_extension": ".py",
   "mimetype": "text/x-python",
   "name": "python",
   "nbconvert_exporter": "python",
   "pygments_lexer": "ipython3",
   "version": "3.10.15"
  }
 },
 "nbformat": 4,
 "nbformat_minor": 2
}
