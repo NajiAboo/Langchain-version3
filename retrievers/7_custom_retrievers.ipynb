{
 "cells": [
  {
   "cell_type": "markdown",
   "metadata": {},
   "source": [
    "# Custom Retrievers"
   ]
  },
  {
   "cell_type": "code",
   "execution_count": 27,
   "metadata": {},
   "outputs": [],
   "source": [
    "from typing import List\n",
    "from langchain_core.documents import Document\n",
    "from langchain_core.callbacks import  CallbackManagerForRetrieverRun\n",
    "from langchain_core.retrievers import BaseRetriever"
   ]
  },
  {
   "cell_type": "code",
   "execution_count": 30,
   "metadata": {},
   "outputs": [],
   "source": [
    "from langchain_core.callbacks.manager import CallbackManagerForRetrieverRun\n",
    "from langchain_core.documents import Document\n",
    "\n",
    "\n",
    "class CustomRetriever(BaseRetriever):\n",
    "    documents: List[Document]\n",
    "    k : int\n",
    "    def _get_relevant_documents(self, query: str, *, run_manager: CallbackManagerForRetrieverRun) -> list[Document]:\n",
    "        matchaed_document = []\n",
    "\n",
    "        for document in self.documents:\n",
    "            if(len(matchaed_document)> self.k):\n",
    "                return matchaed_document\n",
    "            \n",
    "            if query.lower() in document.page_content.lower():\n",
    "                matchaed_document.append(document)\n",
    "\n",
    "        return matchaed_document"
   ]
  },
  {
   "cell_type": "code",
   "execution_count": 31,
   "metadata": {},
   "outputs": [],
   "source": [
    "documents = [\n",
    "    Document(\n",
    "        page_content=\"This is a cat\",\n",
    "        metadata={\"type\":\"cat\"}\n",
    "    ),\n",
    "    Document(\n",
    "        page_content=\"This is a dog\",\n",
    "        metadata={\"type\":\"dog\"}\n",
    "    )\n",
    "]"
   ]
  },
  {
   "cell_type": "code",
   "execution_count": 32,
   "metadata": {},
   "outputs": [],
   "source": [
    "retriever = CustomRetriever(documents=documents, k=2)"
   ]
  },
  {
   "cell_type": "code",
   "execution_count": 35,
   "metadata": {},
   "outputs": [],
   "source": [
    "reriever_doc = retriever.invoke(\"dog\")"
   ]
  },
  {
   "cell_type": "code",
   "execution_count": 36,
   "metadata": {},
   "outputs": [
    {
     "data": {
      "text/plain": [
       "[Document(metadata={'type': 'dog'}, page_content='This is a dog')]"
      ]
     },
     "execution_count": 36,
     "metadata": {},
     "output_type": "execute_result"
    }
   ],
   "source": [
    "reriever_doc"
   ]
  },
  {
   "cell_type": "code",
   "execution_count": null,
   "metadata": {},
   "outputs": [],
   "source": []
  }
 ],
 "metadata": {
  "kernelspec": {
   "display_name": "Python 3",
   "language": "python",
   "name": "python3"
  },
  "language_info": {
   "codemirror_mode": {
    "name": "ipython",
    "version": 3
   },
   "file_extension": ".py",
   "mimetype": "text/x-python",
   "name": "python",
   "nbconvert_exporter": "python",
   "pygments_lexer": "ipython3",
   "version": "3.10.15"
  }
 },
 "nbformat": 4,
 "nbformat_minor": 2
}
