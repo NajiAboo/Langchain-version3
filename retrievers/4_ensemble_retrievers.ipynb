{
 "cells": [
  {
   "cell_type": "code",
   "execution_count": 3,
   "metadata": {},
   "outputs": [],
   "source": [
    "corpus = [\n",
    "\"Python is a versatile programming language used for web development, data science, and artificial intelligence.\",\n",
    "\"Artificial intelligence is transforming healthcare by enabling faster diagnoses and personalized treatments.\",\n",
    "\"Machine learning techniques, such as deep learning, have revolutionized image recognition and language processing.\",\n",
    "\"Web development often involves Python alongside HTML, CSS, and JavaScript.\",\n",
    "\"The healthcare industry benefits from AI, robotics, and machine learning.\",\n",
    "\"FAISS is a library for fast similarity search and clustering of dense vectors.\",\n",
    "\"BM25 is used for keyword-based retrieval in information systems.\",\n",
    "\n",
    "]"
   ]
  },
  {
   "cell_type": "code",
   "execution_count": 2,
   "metadata": {},
   "outputs": [],
   "source": [
    "query = \"AI in healthcare and web development\"\n"
   ]
  },
  {
   "cell_type": "code",
   "execution_count": 4,
   "metadata": {},
   "outputs": [],
   "source": [
    "from langchain.retrievers import EnsembleRetriever\n",
    "from langchain_community.retrievers import BM25Retriever\n",
    "from langchain_community.vectorstores import FAISS\n",
    "from langchain_ollama import OllamaEmbeddings"
   ]
  },
  {
   "cell_type": "code",
   "execution_count": 6,
   "metadata": {},
   "outputs": [],
   "source": [
    "bm25_retriever = BM25Retriever.from_texts(\n",
    "    corpus, metadatas=[{\"source\":\"bm25\"}] * len(corpus)\n",
    ")"
   ]
  },
  {
   "cell_type": "code",
   "execution_count": 8,
   "metadata": {},
   "outputs": [],
   "source": [
    "bm25_retriever.k = 2"
   ]
  },
  {
   "cell_type": "code",
   "execution_count": 9,
   "metadata": {},
   "outputs": [
    {
     "data": {
      "text/plain": [
       "[Document(metadata={'source': 'bm25'}, page_content='Web development often involves Python alongside HTML, CSS, and JavaScript.'),\n",
       " Document(metadata={'source': 'bm25'}, page_content='BM25 is used for keyword-based retrieval in information systems.')]"
      ]
     },
     "execution_count": 9,
     "metadata": {},
     "output_type": "execute_result"
    }
   ],
   "source": [
    "bm25_retriever.invoke(query)"
   ]
  },
  {
   "cell_type": "code",
   "execution_count": 11,
   "metadata": {},
   "outputs": [],
   "source": [
    "embedding = OllamaEmbeddings( model=\"phi3\")"
   ]
  },
  {
   "cell_type": "code",
   "execution_count": 13,
   "metadata": {},
   "outputs": [],
   "source": [
    "faiss_vectorstore = FAISS.from_texts(\n",
    "    texts=corpus, embedding=embedding, metadatas=[{\"source\": \"faiss\"}]* len(corpus)\n",
    ")"
   ]
  },
  {
   "cell_type": "code",
   "execution_count": 14,
   "metadata": {},
   "outputs": [],
   "source": [
    "fais_retriever = faiss_vectorstore.as_retriever(search_kwargs={\"k\":2})"
   ]
  },
  {
   "cell_type": "code",
   "execution_count": 15,
   "metadata": {},
   "outputs": [
    {
     "data": {
      "text/plain": [
       "[Document(metadata={'source': 'faiss'}, page_content='The healthcare industry benefits from AI, robotics, and machine learning.'),\n",
       " Document(metadata={'source': 'faiss'}, page_content='BM25 is used for keyword-based retrieval in information systems.')]"
      ]
     },
     "execution_count": 15,
     "metadata": {},
     "output_type": "execute_result"
    }
   ],
   "source": [
    "fais_retriever.invoke(query)"
   ]
  },
  {
   "cell_type": "code",
   "execution_count": 17,
   "metadata": {},
   "outputs": [],
   "source": [
    "ensemble_retriever = EnsembleRetriever(\n",
    "    retrievers=[bm25_retriever, fais_retriever], weights=[0.5,0.5]\n",
    ")"
   ]
  },
  {
   "cell_type": "code",
   "execution_count": 18,
   "metadata": {},
   "outputs": [],
   "source": [
    "docs = ensemble_retriever.invoke(query)"
   ]
  },
  {
   "cell_type": "code",
   "execution_count": 19,
   "metadata": {},
   "outputs": [
    {
     "data": {
      "text/plain": [
       "[Document(metadata={'source': 'bm25'}, page_content='BM25 is used for keyword-based retrieval in information systems.'),\n",
       " Document(metadata={'source': 'bm25'}, page_content='Web development often involves Python alongside HTML, CSS, and JavaScript.'),\n",
       " Document(metadata={'source': 'faiss'}, page_content='The healthcare industry benefits from AI, robotics, and machine learning.')]"
      ]
     },
     "execution_count": 19,
     "metadata": {},
     "output_type": "execute_result"
    }
   ],
   "source": [
    "docs"
   ]
  },
  {
   "cell_type": "code",
   "execution_count": null,
   "metadata": {},
   "outputs": [],
   "source": []
  }
 ],
 "metadata": {
  "kernelspec": {
   "display_name": "Python 3",
   "language": "python",
   "name": "python3"
  },
  "language_info": {
   "codemirror_mode": {
    "name": "ipython",
    "version": 3
   },
   "file_extension": ".py",
   "mimetype": "text/x-python",
   "name": "python",
   "nbconvert_exporter": "python",
   "pygments_lexer": "ipython3",
   "version": "3.10.15"
  }
 },
 "nbformat": 4,
 "nbformat_minor": 2
}
